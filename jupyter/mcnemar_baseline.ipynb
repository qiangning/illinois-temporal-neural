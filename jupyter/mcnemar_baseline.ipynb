{
 "cells": [
  {
   "cell_type": "code",
   "execution_count": 49,
   "metadata": {},
   "outputs": [],
   "source": [
    "from TemporalDataSet import temprel_set\n",
    "\n",
    "testset = temprel_set(\"data/Output4LSTM_Baseline/testset-temprel.xml\")"
   ]
  },
  {
   "cell_type": "code",
   "execution_count": 50,
   "metadata": {},
   "outputs": [],
   "source": [
    "def line2labelix(line):\n",
    "    elements = line.strip().split(\",\")\n",
    "    scores = [float(x) for x in elements[4:]]\n",
    "    return int(elements[3]), scores"
   ]
  },
  {
   "cell_type": "code",
   "execution_count": 53,
   "metadata": {},
   "outputs": [],
   "source": [
    "output1 = \"/home/qning2/Servers/home/Research/illinois-temporal-lstm/output/lstm_w2v7_mode-3_sz2_gm0.5_step10_lr0.01.output\"\n",
    "# output2 = \"/home/qning2/Servers/home/Research/illinois-temporal-lstm/output/lstm_w2v6_mode-3_sz2_gm0.5_step10_lr0.01.output\"\n",
    "output2 = \"/home/qning2/Servers/home/Research/illinois-temporal-lstm/output/rawstats_nn2layers_baseline_mode1_lr0.001_hid128_gamma0.3_step10.output\"\n",
    "f1 = open(output1,\"r\")\n",
    "f2 = open(output2,\"r\")\n",
    "results1=f1.readlines()\n",
    "results2=f2.readlines()"
   ]
  },
  {
   "cell_type": "code",
   "execution_count": 54,
   "metadata": {},
   "outputs": [
    {
     "name": "stdout",
     "output_type": "stream",
     "text": [
      "142\n",
      "74\n",
      "21.40740740740741\n"
     ]
    }
   ],
   "source": [
    "output_labels = {\"BEFORE\": 0, \"AFTER\": 1, \"EQUAL\": 2, \"VAGUE\": 3}\n",
    "b=0\n",
    "c=0\n",
    "for i,temprel in enumerate(testset.temprel_ee):\n",
    "    gold = output_labels[temprel.label]\n",
    "    pred1, _ = line2labelix(results1[i])\n",
    "    pred2, _ = line2labelix(results2[i])\n",
    "    if pred1==gold and pred2!=gold:\n",
    "        b+=1\n",
    "    elif pred1!=gold and pred2==gold:\n",
    "        c+=1\n",
    "print(b)\n",
    "print(c)\n",
    "print(1.0*(b-c)*(b-c)/(b+c))"
   ]
  }
 ],
 "metadata": {
  "kernelspec": {
   "display_name": "Python 3",
   "language": "python",
   "name": "python3"
  },
  "language_info": {
   "codemirror_mode": {
    "name": "ipython",
    "version": 3
   },
   "file_extension": ".py",
   "mimetype": "text/x-python",
   "name": "python",
   "nbconvert_exporter": "python",
   "pygments_lexer": "ipython3",
   "version": "3.6.4"
  }
 },
 "nbformat": 4,
 "nbformat_minor": 2
}
