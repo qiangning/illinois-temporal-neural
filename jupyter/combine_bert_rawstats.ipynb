{
 "cells": [
  {
   "cell_type": "code",
   "execution_count": 25,
   "metadata": {},
   "outputs": [],
   "source": [
    "from TemporalDataSet import temprel_set\n",
    "import matplotlib.pyplot as plt\n",
    "testset = temprel_set(\"data/Output4LSTM_Baseline/testset-temprel.xml\")\n",
    "def line2labelix(line):\n",
    "    elements = line.strip().split(\",\")\n",
    "    scores = [float(x) for x in elements[4:]]\n",
    "    return int(elements[3]), scores\n",
    "# output1 = \"/home/qning2/Servers/home/Research/illinois-temporal-lstm/output/lstm_w2v7_mode-3_sz2_gm0.5_step10_lr0.01.output\"\n",
    "# output1 = \"/home/qning2/Servers/home/Research/illinois-temporal-lstm/output/lstm_w2v7_mode-1_hidden6464_gm0.3_step10_lr0.001_dropout_wdecay1e-2.output\"\n",
    "output1 = \"/home/qning2/Servers/home/Research/illinois-temporal-lstm/output/lstm_w2v7_mode14_hidden6464_gm0.3_step10_lr0.001_csed32_gn0.1_csdim2_wdecay1e-2.output\"\n",
    "# output2 = \"/home/qning2/Servers/home/Research/illinois-temporal-lstm/output/lstm_w2v6_mode-3_sz2_gm0.5_step10_lr0.01.output\"\n",
    "output2 = \"/home/qning2/Servers/home/Research/illinois-temporal-lstm/output/rawstats_nn2layers_baseline_mode1_lr0.001_hid128_gamma0.3_step10.output\"\n",
    "f1 = open(output1,\"r\")\n",
    "f2 = open(output2,\"r\")\n",
    "results1=f1.readlines()\n",
    "results2=f2.readlines()"
   ]
  },
  {
   "cell_type": "code",
   "execution_count": 26,
   "metadata": {},
   "outputs": [],
   "source": [
    "def getMax(a):\n",
    "    best_ix = 0\n",
    "    max_val = a[0]\n",
    "    for i in range(1,len(a)):\n",
    "        n = a[i]\n",
    "        if max_val<n:\n",
    "            max_val=n\n",
    "            best_ix = i\n",
    "    return best_ix,max_val"
   ]
  },
  {
   "cell_type": "code",
   "execution_count": 27,
   "metadata": {},
   "outputs": [],
   "source": [
    "def best_acc(alpha):\n",
    "    output_labels = {\"BEFORE\": 0, \"AFTER\": 1, \"EQUAL\": 2, \"VAGUE\": 3}\n",
    "    corr1=0\n",
    "    corr2=0\n",
    "    corr_merged=0\n",
    "    for i,temprel in enumerate(testset.temprel_ee):\n",
    "        gold = output_labels[temprel.label]\n",
    "        pred1, scores1 = line2labelix(results1[i])\n",
    "        pred2, scores2 = line2labelix(results2[i])\n",
    "        scores_merged = [scores1[i]+alpha*scores2[i] for i in range(len(scores1))]\n",
    "        pred_merged, _ = getMax(scores_merged)\n",
    "        if pred1==gold:\n",
    "            corr1+=1\n",
    "        if pred2==gold:\n",
    "            corr2+=1\n",
    "        if pred_merged==gold:\n",
    "            corr_merged+=1\n",
    "    return 1.0*corr_merged/len(testset.temprel_ee)\n",
    "#     print(corr1,1.0*corr1/len(testset.temprel_ee))\n",
    "#     print(corr2,1.0*corr2/len(testset.temprel_ee))\n",
    "#     print(corr_merged,1.0*corr_merged/len(testset.temprel_ee))"
   ]
  },
  {
   "cell_type": "code",
   "execution_count": 28,
   "metadata": {},
   "outputs": [],
   "source": [
    "step=0.01\n",
    "res = []\n",
    "for alpha in range(500):\n",
    "    res.append(best_acc(1.0*alpha*step))"
   ]
  },
  {
   "cell_type": "code",
   "execution_count": 29,
   "metadata": {},
   "outputs": [
    {
     "data": {
      "image/png": "[encoded data removed]",
      "text/plain": [
       "<Figure size 432x288 with 1 Axes>"
      ]
     },
     "metadata": {},
     "output_type": "display_data"
    }
   ],
   "source": [
    "plt.figure()\n",
    "plt.plot(res)\n",
    "plt.show()"
   ]
  }
 ],
 "metadata": {
  "kernelspec": {
   "display_name": "Python 3",
   "language": "python",
   "name": "python3"
  },
  "language_info": {
   "codemirror_mode": {
    "name": "ipython",
    "version": 3
   },
   "file_extension": ".py",
   "mimetype": "text/x-python",
   "name": "python",
   "nbconvert_exporter": "python",
   "pygments_lexer": "ipython3",
   "version": "3.6.4"
  }
 },
 "nbformat": 4,
 "nbformat_minor": 2
}
