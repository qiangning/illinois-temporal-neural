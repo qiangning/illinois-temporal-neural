{
 "cells": [
  {
   "cell_type": "code",
   "execution_count": 17,
   "metadata": {},
   "outputs": [],
   "source": [
    "import os\n",
    "import time\n",
    "import math\n",
    "import pickle as pkl\n",
    "\n",
    "MAX_FILES = 100\n",
    "REPORT_STEP = 100\n",
    "WINDOW = 3\n",
    "MIN_LEN_TIMELINE = 5\n",
    "PAIRS_MONITOR = {('die','explode'),('attack','die'),('ask','help'),('chop','taste'),('concern','protect'),\\\n",
    "                 ('conspire','kill'),('debate','vote'),('dedicate','promote'),('fight','overthrow'),\\\n",
    "                ('achieve','desire'),('admire','respect'),('clean','contaminate'),('defend','accuse'),\\\n",
    "                ('die','crash'),('overthrow','elect')}"
   ]
  },
  {
   "cell_type": "code",
   "execution_count": 39,
   "metadata": {},
   "outputs": [
    {
     "name": "stdout",
     "output_type": "stream",
     "text": [
      "[0.21212121212121213, 0.21212121212121213]\n"
     ]
    },
    {
     "ename": "TypeError",
     "evalue": "'float' object is not iterable",
     "output_type": "error",
     "traceback": [
      "\u001b[0;31m---------------------------------------------------------------------------\u001b[0m",
      "\u001b[0;31mTypeError\u001b[0m                                 Traceback (most recent call last)",
      "\u001b[0;32m<ipython-input-39-8c503d5fb07c>\u001b[0m in \u001b[0;36m<module>\u001b[0;34m()\u001b[0m\n\u001b[1;32m      9\u001b[0m \u001b[0ma\u001b[0m\u001b[0;34m.\u001b[0m\u001b[0mappend\u001b[0m\u001b[0;34m(\u001b[0m\u001b[0mfloat\u001b[0m\u001b[0;34m(\u001b[0m\u001b[0mc\u001b[0m\u001b[0;34m)\u001b[0m\u001b[0;34m)\u001b[0m\u001b[0;34m\u001b[0m\u001b[0m\n\u001b[1;32m     10\u001b[0m \u001b[0mprint\u001b[0m\u001b[0;34m(\u001b[0m\u001b[0ma\u001b[0m\u001b[0;34m)\u001b[0m\u001b[0;34m\u001b[0m\u001b[0m\n\u001b[0;32m---> 11\u001b[0;31m \u001b[0mi\u001b[0m\u001b[0;34m,\u001b[0m\u001b[0mm\u001b[0m \u001b[0;34m=\u001b[0m \u001b[0mmax\u001b[0m\u001b[0;34m(\u001b[0m\u001b[0ma\u001b[0m\u001b[0;34m)\u001b[0m\u001b[0;34m\u001b[0m\u001b[0m\n\u001b[0m\u001b[1;32m     12\u001b[0m \u001b[0mprint\u001b[0m\u001b[0;34m(\u001b[0m\u001b[0mi\u001b[0m\u001b[0;34m,\u001b[0m\u001b[0mm\u001b[0m\u001b[0;34m)\u001b[0m\u001b[0;34m\u001b[0m\u001b[0m\n",
      "\u001b[0;31mTypeError\u001b[0m: 'float' object is not iterable"
     ]
    }
   ],
   "source": [
    "import numpy as np\n",
    "def test():\n",
    "    confusion=np.array([[1,2,3,4],[5,6,7,8],[9,0,1,2],[3,4,5,6]])\n",
    "    return 1.0*np.sum([confusion[i][i] for i in range(4)])/np.sum(confusion),confusion\n",
    "a=[]\n",
    "b,_ = test()\n",
    "c,_ = test()\n",
    "a.append(float(b))\n",
    "a.append(float(c))\n",
    "print(a)\n",
    "i,m = max(a)\n",
    "print(i,m)\n"
   ]
  },
  {
   "cell_type": "code",
   "execution_count": 47,
   "metadata": {},
   "outputs": [
    {
     "name": "stdout",
     "output_type": "stream",
     "text": [
      "{'a': 1, 'b': 2}\n"
     ]
    }
   ],
   "source": [
    "a={'a':1,'b':2}\n",
    "print(a)"
   ]
  },
  {
   "cell_type": "code",
   "execution_count": 46,
   "metadata": {},
   "outputs": [],
   "source": [
    "tBigram = pkl.load(open('/home/qning2/Servers/root/shared/preprocessed/qning2/temporal/TimeLines/temporal_bigram_stats.pkl','rb'))"
   ]
  },
  {
   "cell_type": "code",
   "execution_count": 19,
   "metadata": {},
   "outputs": [
    {
     "name": "stdout",
     "output_type": "stream",
     "text": [
      "-------------temporal_bigram: basic stats-------------\n",
      "Length of vocab: 12814\n",
      "Relation set: {'before', 'after'}\n",
      "Total bigrams added: 1246301\n",
      "Total counts added: 13491726\n",
      "------------------------------------------------------\n",
      "\tPairs (PBefore)     \tTotalCnt  \tTBefore   \tTAfter    \n",
      "dedicate  \tpromote   \t14        \t10    (71.43%)\t\t4     (28.57%)\n",
      "promote   \tdedicate  \t0         \t0     (0.00 %)\t\t0     (0.00 %)\n",
      "conspire  \tkill      \t10        \t8     (80.00%)\t\t2     (20.00%)\n",
      "kill      \tconspire  \t2         \t2     (100.00%)\t\t0     (0.00 %)\n",
      "attack    \tdie       \t32        \t28    (87.50%)\t\t4     (12.50%)\n",
      "die       \tattack    \t34        \t26    (76.47%)\t\t8     (23.53%)\n",
      "ask       \thelp      \t216       \t138   (63.89%)\t\t78    (36.11%)\n",
      "help      \task       \t90        \t82    (91.11%)\t\t8     (8.89 %)\n",
      "admire    \trespect   \t12        \t12    (100.00%)\t\t0     (0.00 %)\n",
      "respect   \tadmire    \t16        \t12    (75.00%)\t\t4     (25.00%)\n",
      "overthrow \telect     \t6         \t0     (0.00 %)\t\t6     (100.00%)\n",
      "elect     \toverthrow \t2         \t2     (100.00%)\t\t0     (0.00 %)\n",
      "die       \tcrash     \t70        \t30    (42.86%)\t\t40    (57.14%)\n",
      "crash     \tdie       \t38        \t24    (63.16%)\t\t14    (36.84%)\n",
      "concern   \tprotect   \t10        \t10    (100.00%)\t\t0     (0.00 %)\n",
      "protect   \tconcern   \t10        \t8     (80.00%)\t\t2     (20.00%)\n",
      "fight     \toverthrow \t6         \t6     (100.00%)\t\t0     (0.00 %)\n",
      "overthrow \tfight     \t0         \t0     (0.00 %)\t\t0     (0.00 %)\n",
      "chop      \ttaste     \t4         \t4     (100.00%)\t\t0     (0.00 %)\n",
      "taste     \tchop      \t4         \t2     (50.00%)\t\t2     (50.00%)\n",
      "defend    \taccuse    \t20        \t18    (90.00%)\t\t2     (10.00%)\n",
      "accuse    \tdefend    \t54        \t34    (62.96%)\t\t20    (37.04%)\n",
      "die       \texplode   \t26        \t16    (61.54%)\t\t10    (38.46%)\n",
      "explode   \tdie       \t22        \t20    (90.91%)\t\t2     (9.09 %)\n",
      "clean     \tcontaminate\t10        \t6     (60.00%)\t\t4     (40.00%)\n",
      "contaminate\tclean     \t2         \t2     (100.00%)\t\t0     (0.00 %)\n",
      "debate    \tvote      \t18        \t14    (77.78%)\t\t4     (22.22%)\n",
      "vote      \tdebate    \t14        \t14    (100.00%)\t\t0     (0.00 %)\n",
      "(achieve,desire) not in bigrams\n",
      "------------------------------------------------------\n"
     ]
    }
   ],
   "source": [
    "tBigram.snapshot(PAIRS_MONITOR)"
   ]
  },
  {
   "cell_type": "code",
   "execution_count": 11,
   "metadata": {},
   "outputs": [],
   "source": [
    "class temporal_bigram:\n",
    "    def __init__(self):\n",
    "        self.bigram_rel_counts = {}\n",
    "        self.bigram_counts = {}\n",
    "        self.vocab = set()\n",
    "        self.relationSet = set(['before','after'])\n",
    "        self.total_counts = 0\n",
    "        self.total_bigrams = 0\n",
    "    def save(self,path):\n",
    "        pkl.dump(self,open(path,'wb'))\n",
    "    def addWord(self,word):\n",
    "        if word not in self.vocab:\n",
    "            self.vocab.add(word)\n",
    "    def addRelation(self,rel):\n",
    "        if rel not in self.relationSet:\n",
    "            self.relationSet.add(rel)\n",
    "    def addOneRelation(self,v1,v2,rel):\n",
    "        self.addWord(v1)\n",
    "        self.addWord(v2)\n",
    "        self.addRelation(rel)\n",
    "        if v1 not in self.bigram_rel_counts:\n",
    "            self.bigram_rel_counts[v1] = {}\n",
    "            self.bigram_counts[v1] = {}\n",
    "        if v2 not in self.bigram_rel_counts[v1]:\n",
    "            self.bigram_rel_counts[v1][v2] = {}\n",
    "            self.bigram_counts[v1][v2] = 0\n",
    "            self.total_bigrams += 1\n",
    "        if rel not in self.bigram_rel_counts[v1][v2]:\n",
    "            self.bigram_rel_counts[v1][v2][rel] = 0\n",
    "        self.bigram_rel_counts[v1][v2][rel] += 1\n",
    "        self.bigram_counts[v1][v2] += 1\n",
    "        self.total_counts += 1\n",
    "    def getBigramCounts(self,v1,v2):\n",
    "        if v1 not in self.bigram_counts or v2 not in self.bigram_counts[v1]:\n",
    "            return 0\n",
    "        return self.bigram_counts[v1][v2]\n",
    "    def getBigramRelCounts(self,v1,v2,rel):\n",
    "        if v1 not in self.bigram_rel_counts or v2 not in self.bigram_rel_counts[v1] or rel not in self.bigram_rel_counts[v1][v2]:\n",
    "            return 0\n",
    "        return self.bigram_rel_counts[v1][v2][rel]\n",
    "    def snapshot(self,pairs2monitor=None):\n",
    "        print(\"-------------temporal_bigram: basic stats-------------\")\n",
    "        print(\"Length of vocab: %d\" % len(self.vocab))\n",
    "        print(\"Relation set: %s\" % str(self.relationSet))\n",
    "        print(\"Total bigrams added: %d\" % self.total_bigrams)\n",
    "        print(\"Total counts added: %d\" % self.total_counts)\n",
    "        print(\"------------------------------------------------------\")\n",
    "        if pairs2monitor is not None:\n",
    "            print(\"\\t%s\\t%s\\t%s\\t%s\" %('Pairs (PBefore)'.ljust(20),'TotalCnt'.ljust(10),'TBefore'.ljust(10),'TAfter'.ljust(10)))\n",
    "            for i, eventPair in enumerate(pairs2monitor):\n",
    "                v1, v2 = eventPair[0], eventPair[1]\n",
    "                if v1 not in self.vocab or \\\n",
    "                v2 not in self.vocab or \\\n",
    "                v1 not in self.bigram_rel_counts or \\\n",
    "                v2 not in self.bigram_rel_counts[v1]:\n",
    "                    continue\n",
    "                print(\"%s\\t%s\\t%-10d\\t%-5d (%-5.2f%%)\\t\\t%-5d (%-5.2f%%)\" % \\\n",
    "                      (v1.ljust(10),v2.ljust(10),\\\n",
    "                       self.getBigramCounts(v1,v2),\\\n",
    "                       self.getBigramRelCounts(v1,v2,'before'),\\\n",
    "                       100.0*self.getBigramRelCounts(v1,v2,'before')/(self.getBigramCounts(v1,v2)+1e-6),\\\n",
    "                       self.getBigramRelCounts(v1,v2,'after'),\\\n",
    "                       100.0*self.getBigramRelCounts(v1,v2,'after')/(self.getBigramCounts(v1,v2)+1e-6)))\n",
    "                print(\"%s\\t%s\\t%-10d\\t%-5d (%-5.2f%%)\\t\\t%-5d (%-5.2f%%)\" % \\\n",
    "                      (v2.ljust(10),v1.ljust(10),\\\n",
    "                       self.getBigramCounts(v2,v1),\\\n",
    "                       self.getBigramRelCounts(v2,v1,'before'),\\\n",
    "                       100.0*self.getBigramRelCounts(v2,v1,'before')/(self.getBigramCounts(v2,v1)+1e-6),\\\n",
    "                       self.getBigramRelCounts(v2,v1,'after'),\\\n",
    "                       100.0*self.getBigramRelCounts(v2,v1,'after')/(self.getBigramCounts(v2,v1)+1e-6)))\n",
    "            for eventPair in pairs2monitor:\n",
    "                v1, v2 = eventPair[0], eventPair[1]\n",
    "                if v1 not in self.vocab:\n",
    "                    print('%s not in vocab!' % v1)\n",
    "                if v2 not in self.vocab:\n",
    "                    print('%s not in vocab!' % v2)\n",
    "                if v1 not in self.bigram_rel_counts or v2 not in self.bigram_rel_counts[v1]:\n",
    "                    print('(%s,%s) not in bigrams' % (v1,v2))\n",
    "            print(\"------------------------------------------------------\")\n",
    "            "
   ]
  },
  {
   "cell_type": "code",
   "execution_count": 12,
   "metadata": {},
   "outputs": [],
   "source": [
    "class event:\n",
    "    def __init__(self,lemma,idx):\n",
    "        self.lemma = lemma\n",
    "        self.idx = idx\n",
    "def isPBefore(event1,event2):\n",
    "    return event1.idx < event2.idx\n",
    "tBigram = temporal_bigram()\n",
    "start = time.time()"
   ]
  },
  {
   "cell_type": "code",
   "execution_count": 13,
   "metadata": {
    "scrolled": false
   },
   "outputs": [
    {
     "name": "stdout",
     "output_type": "stream",
     "text": [
      "100 files have been processed.\n",
      "-------------temporal_bigram: basic stats-------------\n",
      "Length of vocab: 909\n",
      "Relation set: {'before', 'after'}\n",
      "Total bigrams added: 7548\n",
      "Total counts added: 19536\n",
      "------------------------------------------------------\n",
      "\tPairs (PBefore)     \tTotalCnt  \tTBefore   \tTAfter    \n",
      "die       \texplode   \t2         \t2     (100.00%)\t\t0     (0.00 %)\n",
      "explode   \tdie       \t0         \t0     (0.00 %)\t\t0     (0.00 %)\n",
      "(attack,die) not in bigrams\n",
      "(ask,help) not in bigrams\n",
      "------------------------------------------------------\n"
     ]
    }
   ],
   "source": [
    "INPUT_DIRECTORY = \"/home/qning2/Servers/root/shared/preprocessed/sssubra2/annotated-nyt-temporal/extracted\"\n",
    "N_FILES = 0\n",
    "for root, _, files in os.walk(INPUT_DIRECTORY):\n",
    "    for fname in files:\n",
    "        infile = os.path.join(root,fname)\n",
    "        events = []\n",
    "        lines = open(infile, 'r').readlines()\n",
    "        for line in lines:\n",
    "            if not line.startswith('E'):\n",
    "                continue\n",
    "            line = line.strip().split(\"/\")\n",
    "            lemma = line[-2] # verb lemma\n",
    "            idx = int(line[0][1:])\n",
    "            events.append(event(lemma,idx))\n",
    "        if len(events) < MIN_LEN_TIMELINE:\n",
    "            continue\n",
    "        N_FILES+=1\n",
    "        for i, e1 in enumerate(events):\n",
    "            for j in range(max(0,i-WINDOW),min(i+WINDOW+1,len(events))):\n",
    "                if i == j:\n",
    "                    continue\n",
    "                e2 = events[j]\n",
    "                if isPBefore(e1,e2): # Text: e1...e2\n",
    "                    if i < j: # Time: e1...e2\n",
    "                        tBigram.addOneRelation(e1.lemma,e2.lemma,'before')\n",
    "                    else: # Time: e2...e1\n",
    "                        tBigram.addOneRelation(e1.lemma,e2.lemma,'after')\n",
    "                else: # Text: e2...e1\n",
    "                    if i < j: # Time: e1...e2\n",
    "                        tBigram.addOneRelation(e2.lemma,e1.lemma,'after')\n",
    "                    else: # Time: e2...e1\n",
    "                        tBigram.addOneRelation(e2.lemma,e1.lemma,'before')\n",
    "        if(N_FILES % REPORT_STEP == 0):\n",
    "            print(\"%d files have been processed.\" % N_FILES)\n",
    "            tBigram.snapshot(PAIRS_MONITOR)\n",
    "            tBigram.save('temporal_bigram_stats.pkl')\n",
    "        if(N_FILES>MAX_FILES):\n",
    "            break\n",
    "    if(N_FILES>MAX_FILES):\n",
    "        break\n",
    "            "
   ]
  },
  {
   "cell_type": "code",
   "execution_count": 9,
   "metadata": {},
   "outputs": [
    {
     "name": "stdout",
     "output_type": "stream",
     "text": [
      "-------------temporal_bigram: basic stats-------------\n",
      "Length of vocab: 6095\n",
      "Relation set: {'before', 'after'}\n",
      "Total bigrams added: 325086\n",
      "Total counts added: 1803426\n",
      "------------------------------------------------------\n",
      "\tPairs (PBefore)     \tTotalCnt  \tTBefore   \tTAfter    \n",
      "attack    \tdie       \t4         \t2     (50.00%)\t\t2     (50.00%)\n",
      "die       \tattack    \t6         \t2          (33.33     %)\t\t4          (66.67     %)\n",
      "die       \texplode   \t4         \t4     (100.00%)\t\t0     (0.00 %)\n",
      "explode   \tdie       \t6         \t6          (100.00    %)\t\t0          (0.00      %)\n",
      "ask       \thelp      \t22        \t16    (72.73%)\t\t6     (27.27%)\n",
      "help      \task       \t12        \t10         (83.33     %)\t\t2          (16.67     %)\n",
      "------------------------------------------------------\n"
     ]
    }
   ],
   "source": [
    "tBigram.snapshot(PAIRS_MONITOR)"
   ]
  }
 ],
 "metadata": {
  "kernelspec": {
   "display_name": "Python 3",
   "language": "python",
   "name": "python3"
  },
  "language_info": {
   "codemirror_mode": {
    "name": "ipython",
    "version": 3
   },
   "file_extension": ".py",
   "mimetype": "text/x-python",
   "name": "python",
   "nbconvert_exporter": "python",
   "pygments_lexer": "ipython3",
   "version": "3.6.4"
  }
 },
 "nbformat": 4,
 "nbformat_minor": 2
}
