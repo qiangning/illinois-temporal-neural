{
 "cells": [
  {
   "cell_type": "code",
   "execution_count": 1,
   "metadata": {
    "collapsed": true
   },
   "outputs": [],
   "source": [
    "import dateparser as dp\n",
    "from dateparser.search import search_dates as sd"
   ]
  },
  {
   "cell_type": "code",
   "execution_count": 7,
   "metadata": {},
   "outputs": [
    {
     "data": {
      "text/plain": [
       "[(u'may do', datetime.datetime(2018, 5, 21, 0, 0)),\n",
       " (u'tomorrow', datetime.datetime(2018, 5, 22, 0, 0)),\n",
       " (u'Dec', datetime.datetime(2018, 12, 21, 0, 0)),\n",
       " (u'23rd, 2014', datetime.datetime(2014, 12, 23, 0, 0)),\n",
       " (u'yesterday', datetime.datetime(2014, 12, 22, 0, 0)),\n",
       " (u'Sat', datetime.datetime(2014, 12, 20, 0, 0)),\n",
       " (u'sat', datetime.datetime(2014, 12, 13, 0, 0))]"
      ]
     },
     "execution_count": 7,
     "metadata": {},
     "output_type": "execute_result"
    }
   ],
   "source": [
    "sd('I may do it tomorrow. I did it on Dec. 23rd, 2014. I did it the day before yesterday. I did it on Sat. I sat on a bench.')"
   ]
  }
 ],
 "metadata": {
  "kernelspec": {
   "display_name": "Python 2",
   "language": "python",
   "name": "python2"
  },
  "language_info": {
   "codemirror_mode": {
    "name": "ipython",
    "version": 2
   },
   "file_extension": ".py",
   "mimetype": "text/x-python",
   "name": "python",
   "nbconvert_exporter": "python",
   "pygments_lexer": "ipython2",
   "version": "2.7.14"
  }
 },
 "nbformat": 4,
 "nbformat_minor": 2
}
