{
 "cells": [
  {
   "cell_type": "code",
   "execution_count": 1,
   "metadata": {},
   "outputs": [
    {
     "data": {
      "text/plain": [
       "device(type='cpu')"
      ]
     },
     "execution_count": 1,
     "metadata": {},
     "output_type": "execute_result"
    }
   ],
   "source": [
    "from ELMo_Cache import *\n",
    "from TemporalDataSet import *\n",
    "from Baseline_LSTM import *\n",
    "import torch\n",
    "import torch.nn as nn\n",
    "import torch.autograd as autograd\n",
    "import torch.optim as optim\n",
    "from allennlp.modules.elmo import Elmo, batch_to_ids\n",
    "from random import shuffle\n",
    "import time\n",
    "import math\n",
    "import matplotlib.pyplot as plt\n",
    "import matplotlib.ticker as ticker\n",
    "import numpy\n",
    "\n",
    "device = torch.device(\"cuda:0\" if torch.cuda.is_available() else \"cpu\")\n",
    "device"
   ]
  },
  {
   "cell_type": "code",
   "execution_count": 2,
   "metadata": {},
   "outputs": [],
   "source": [
    "def categoryFromOutput(output):\n",
    "    top_n, top_i = output.topk(1)\n",
    "    category_i = top_i[0].item()\n",
    "    return category_i\n",
    "def evalOnTest(model,testset):\n",
    "    confusion = numpy.zeros((len(output_labels),len(output_labels)),dtype=int)\n",
    "    for temprel in testset.temprel_ee:\n",
    "        embed = model.temprel2embeddingSeq(temprel).to(device)\n",
    "        output = model(embed)\n",
    "        confusion[output_labels[temprel.label]][categoryFromOutput(output)] += 1\n",
    "    return 1.0*numpy.sum([confusion[i][i] for i in range(4)])/numpy.sum(confusion)"
   ]
  },
  {
   "cell_type": "code",
   "execution_count": 3,
   "metadata": {},
   "outputs": [],
   "source": [
    "trainset = temprel_set(\"data/Output4LSTM_Baseline/trainset.xml\")\n",
    "testset = temprel_set(\"data/Output4LSTM_Baseline/testset.xml\")\n",
    "\n",
    "options_file = \"https://s3-us-west-2.amazonaws.com/allennlp/models/elmo/2x1024_128_2048cnn_1xhighway/elmo_2x1024_128_2048cnn_1xhighway_options.json\"\n",
    "weight_file = \"https://s3-us-west-2.amazonaws.com/allennlp/models/elmo/2x1024_128_2048cnn_1xhighway/elmo_2x1024_128_2048cnn_1xhighway_weights.hdf5\""
   ]
  },
  {
   "cell_type": "code",
   "execution_count": 4,
   "metadata": {},
   "outputs": [],
   "source": [
    "elmo = Elmo(options_file, weight_file, 1, dropout=0)\n",
    "emb_cache = elmo_cache(elmo,\"elmo_cache.pkl\",False)"
   ]
  },
  {
   "cell_type": "code",
   "execution_count": null,
   "metadata": {},
   "outputs": [],
   "source": [
    "embedding_dim = 256\n",
    "hidden_dim = 32\n",
    "position_emb_dim = 16\n",
    "output_labels = {\"BEFORE\":0,\"AFTER\":1,\"EQUAL\":2,\"VAGUE\":3}\n",
    "output_dim = len(output_labels)\n",
    "batch_size = 1\n",
    "position2ix = {\"B\":0,\"M\":1,\"A\":2,\"E1\":3,\"E2\":4}\n",
    "\n",
    "model = lstm_baseline(embedding_dim,hidden_dim,position_emb_dim,emb_cache,output_dim,batch_size,position2ix)\n",
    "model.to(device)\n",
    "optimizer = optim.SGD(model.parameters(), lr=0.01, weight_decay=1e-4)\n",
    "\n",
    "torch.manual_seed(1)\n",
    "criterion = nn.CrossEntropyLoss()\n",
    "allTempRels = trainset.temprel_ee\n",
    "all_losses = []\n",
    "all_accuracies = []"
   ]
  },
  {
   "cell_type": "code",
   "execution_count": null,
   "metadata": {
    "scrolled": true
   },
   "outputs": [
    {
     "name": "stdout",
     "output_type": "stream",
     "text": [
      "epoch: 0\n",
      "0/12740: 0m 0s 1.4898 1.4898\n",
      "1000/12740: 0m 10s 1.0353 1127.2484\n",
      "2000/12740: 0m 22s 3.4488 2222.1165\n",
      "3000/12740: 0m 34s 0.7463 3279.1877\n",
      "4000/12740: 0m 46s 1.0501 4315.5259\n",
      "5000/12740: 0m 58s 1.0635 5392.3745\n",
      "6000/12740: 1m 10s 0.4675 6405.2500\n",
      "7000/12740: 1m 22s 1.2667 7428.4653\n",
      "8000/12740: 1m 33s 1.2315 8447.1621\n",
      "9000/12740: 1m 45s 1.1720 9468.6172\n",
      "10000/12740: 1m 57s 1.4754 10463.1006\n",
      "11000/12740: 2m 8s 0.4690 11406.2803\n",
      "12000/12740: 2m 20s 0.5038 12333.9570\n",
      "Loss at epoch 0: 13066.0723\n",
      "epoch: 1\n",
      "0/12740: 2m 46s 1.2537 1.2537\n",
      "1000/12740: 2m 58s 2.0424 974.0793\n",
      "2000/12740: 3m 10s 0.6769 1976.2921\n",
      "3000/12740: 3m 22s 2.5179 2888.7478\n",
      "4000/12740: 3m 34s 0.2387 3804.7407\n",
      "5000/12740: 3m 46s 1.0509 4711.9468\n",
      "6000/12740: 3m 58s 2.3322 5597.8579\n",
      "7000/12740: 4m 10s 0.8518 6500.4297\n",
      "8000/12740: 4m 22s 0.8708 7399.0278\n",
      "9000/12740: 4m 34s 0.1938 8281.6973\n",
      "10000/12740: 4m 46s 0.2164 9179.7236\n",
      "11000/12740: 4m 58s 0.7296 10080.9961\n",
      "12000/12740: 5m 10s 0.3622 10990.4385\n",
      "Loss at epoch 1: 11666.9736\n",
      "epoch: 2\n",
      "0/12740: 5m 21s 0.4739 0.4739\n",
      "1000/12740: 5m 32s 1.0797 851.0782\n",
      "2000/12740: 5m 44s 3.7421 1725.5419\n",
      "3000/12740: 5m 56s 0.0645 2628.6250\n",
      "4000/12740: 6m 8s 0.7406 3495.9155\n",
      "5000/12740: 6m 20s 1.5340 4366.3833\n",
      "6000/12740: 6m 32s 1.8612 5273.6118\n",
      "7000/12740: 6m 45s 0.1925 6142.2461\n",
      "8000/12740: 6m 56s 0.4702 6994.0684\n",
      "9000/12740: 7m 9s 0.2843 7896.4478\n",
      "10000/12740: 7m 21s 0.5188 8787.2129\n",
      "11000/12740: 7m 33s 0.2776 9685.0898\n",
      "12000/12740: 7m 44s 0.3489 10558.9531\n",
      "Loss at epoch 2: 11195.9414\n",
      "epoch: 3\n",
      "0/12740: 7m 56s 2.2527 2.2527\n",
      "1000/12740: 8m 8s 0.5922 841.9607\n",
      "2000/12740: 8m 20s 2.0967 1718.1160\n",
      "3000/12740: 8m 31s 0.5848 2526.5107\n",
      "4000/12740: 8m 44s 1.7065 3417.3264\n",
      "5000/12740: 8m 56s 0.1258 4242.7358\n",
      "6000/12740: 9m 8s 0.1549 5052.9204\n",
      "7000/12740: 9m 20s 0.1595 5897.9331\n",
      "8000/12740: 9m 31s 0.5416 6729.8589\n",
      "9000/12740: 9m 44s 0.1733 7547.2246\n",
      "10000/12740: 9m 56s 0.0643 8363.8086\n",
      "11000/12740: 10m 8s 0.2633 9161.3857\n",
      "12000/12740: 10m 20s 0.1115 9984.5820\n",
      "Loss at epoch 3: 10588.8330\n",
      "epoch: 4\n",
      "0/12740: 10m 32s 0.1019 0.1019\n",
      "1000/12740: 10m 43s 0.0392 749.1140\n",
      "2000/12740: 10m 55s 0.0932 1507.1267\n",
      "3000/12740: 11m 7s 0.0870 2296.7212\n",
      "4000/12740: 11m 19s 0.3080 3065.8447\n",
      "5000/12740: 11m 30s 2.9134 3815.4526\n",
      "6000/12740: 11m 42s 0.2729 4557.0161\n",
      "7000/12740: 11m 54s 2.9842 5364.1235\n",
      "8000/12740: 12m 7s 0.2876 6131.3901\n",
      "9000/12740: 12m 29s 1.8611 6933.3550\n",
      "10000/12740: 12m 48s 1.1007 7723.7192\n",
      "11000/12740: 14m 26s 1.8410 8450.5654\n",
      "12000/12740: 15m 5s 1.8838 9257.5322\n",
      "Loss at epoch 4: 9830.0889\n",
      "epoch: 5\n",
      "0/12740: 15m 46s 1.2432 1.2432\n",
      "1000/12740: 16m 10s 0.2915 720.8077\n",
      "2000/12740: 16m 35s 0.3169 1390.5740\n",
      "3000/12740: 17m 2s 0.1590 2165.8943\n",
      "4000/12740: 17m 33s 0.1414 2916.4058\n",
      "5000/12740: 17m 59s 0.2412 3638.5576\n",
      "6000/12740: 18m 29s 3.0769 4361.9756\n",
      "7000/12740: 18m 54s 0.5648 5102.4287\n",
      "8000/12740: 19m 29s 1.5312 5777.7349\n",
      "9000/12740: 20m 19s 0.1490 6514.7749\n",
      "10000/12740: 21m 7s 0.1105 7283.9150\n",
      "11000/12740: 21m 31s 0.0841 7988.1304\n",
      "12000/12740: 21m 53s 1.0719 8753.7588\n",
      "Loss at epoch 5: 9306.0645\n",
      "epoch: 6\n",
      "0/12740: 22m 18s 0.0911 0.0911\n",
      "1000/12740: 22m 33s 0.0716 642.5564\n",
      "2000/12740: 22m 47s 0.4433 1241.0386\n",
      "3000/12740: 23m 4s 0.0343 1931.3033\n",
      "4000/12740: 23m 20s 0.1590 2648.4417\n",
      "5000/12740: 23m 34s 0.0662 3370.1711\n",
      "6000/12740: 23m 49s 0.0212 4061.7798\n",
      "7000/12740: 24m 4s 0.3588 4779.4272\n",
      "8000/12740: 24m 18s 2.2135 5498.1621\n",
      "9000/12740: 24m 31s 0.1931 6228.1475\n",
      "10000/12740: 24m 46s 0.3210 6932.8384\n",
      "11000/12740: 25m 0s 0.3863 7613.5244\n",
      "12000/12740: 25m 13s 3.2900 8316.1768\n",
      "Loss at epoch 6: 8822.8008\n",
      "epoch: 7\n",
      "0/12740: 25m 27s 0.1731 0.1731\n",
      "1000/12740: 25m 39s 0.4197 663.4000\n",
      "2000/12740: 25m 51s 0.3408 1337.7148\n",
      "3000/12740: 26m 4s 0.1169 1968.1719\n",
      "4000/12740: 26m 24s 0.2494 2640.2485\n",
      "5000/12740: 26m 37s 0.2225 3263.0334\n",
      "6000/12740: 26m 50s 0.7576 3929.7539\n",
      "7000/12740: 27m 3s 0.8706 4610.3960\n",
      "8000/12740: 27m 15s 0.3909 5249.7764\n",
      "9000/12740: 27m 27s 0.0678 5886.1689\n",
      "10000/12740: 27m 40s 0.3355 6608.8047\n",
      "11000/12740: 27m 53s 0.0562 7258.8403\n",
      "12000/12740: 28m 7s 1.1149 7946.1221\n",
      "Loss at epoch 7: 8423.1592\n",
      "epoch: 8\n",
      "0/12740: 28m 19s 0.1542 0.1542\n",
      "1000/12740: 28m 31s 0.4284 660.4548\n",
      "2000/12740: 28m 43s 0.0944 1283.7775\n",
      "3000/12740: 28m 55s 0.4967 1955.2269\n",
      "4000/12740: 29m 7s 1.0164 2518.0349\n",
      "5000/12740: 29m 20s 0.0621 3139.1255\n",
      "6000/12740: 29m 33s 1.9599 3764.0193\n",
      "7000/12740: 29m 46s 0.0062 4380.4507\n",
      "8000/12740: 29m 58s 0.3932 4988.2871\n",
      "9000/12740: 30m 10s 0.0213 5621.7944\n",
      "10000/12740: 30m 25s 0.1825 6273.7783\n",
      "11000/12740: 30m 40s 2.5829 6932.6055\n",
      "12000/12740: 30m 51s 1.8215 7563.7534\n",
      "Loss at epoch 8: 8066.4385\n",
      "epoch: 9\n",
      "0/12740: 31m 4s 0.0550 0.0550\n",
      "1000/12740: 31m 16s 1.2100 556.2336\n",
      "2000/12740: 31m 28s 0.0066 1142.5244\n",
      "3000/12740: 31m 40s 2.1169 1687.5057\n",
      "4000/12740: 31m 53s 0.8492 2292.9531\n",
      "5000/12740: 32m 5s 0.0942 2937.9790\n",
      "6000/12740: 32m 19s 3.9444 3515.8240\n",
      "7000/12740: 32m 59s 0.2237 4163.5220\n",
      "8000/12740: 34m 13s 1.8553 4809.9111\n"
     ]
    }
   ],
   "source": [
    "start = time.time()\n",
    "for epoch in range(20):\n",
    "    print(\"epoch: %d\" % epoch)\n",
    "    current_loss = 0\n",
    "    shuffle(allTempRels)\n",
    "    for i in range(trainset.size):\n",
    "        temprel = allTempRels[i]\n",
    "        model.zero_grad()\n",
    "        target = torch.tensor([output_labels[temprel.label]],dtype=torch.long).to(device)\n",
    "        embed = model.temprel2embeddingSeq(temprel).to(device)\n",
    "        output = model(embed)\n",
    "        loss = criterion(output,target)\n",
    "        current_loss += loss\n",
    "        if i % 1000 == 0:\n",
    "            print(\"%d/%d: %s %.4f %.4f\" %(i,trainset.size, timeSince(start), loss, current_loss))\n",
    "        # Step 4. Compute the loss, gradients, and update the parameters by\n",
    "        # calling optimizer.step()\n",
    "        loss.backward()\n",
    "        optimizer.step()\n",
    "    print(\"Loss at epoch %d: %.4f\" %(epoch,current_loss))\n",
    "    all_losses.append(current_loss)\n",
    "    all_accuracies.append(evalOnTest(model,testset))"
   ]
  },
  {
   "cell_type": "code",
   "execution_count": 10,
   "metadata": {},
   "outputs": [
    {
     "data": {
      "image/png": "[encoded data removed]",
      "text/plain": [
       "<Figure size 432x288 with 1 Axes>"
      ]
     },
     "metadata": {},
     "output_type": "display_data"
    }
   ],
   "source": [
    "plt.figure()\n",
    "plt.plot(all_losses)\n",
    "plt.show()"
   ]
  },
  {
   "cell_type": "code",
   "execution_count": 11,
   "metadata": {},
   "outputs": [
    {
     "data": {
      "image/png": "[encoded data removed]",
      "text/plain": [
       "<Figure size 432x288 with 1 Axes>"
      ]
     },
     "metadata": {},
     "output_type": "display_data"
    }
   ],
   "source": [
    "plt.figure()\n",
    "plt.plot(all_accuracies)\n",
    "plt.show()"
   ]
  },
  {
   "cell_type": "code",
   "execution_count": 23,
   "metadata": {},
   "outputs": [
    {
     "name": "stdout",
     "output_type": "stream",
     "text": [
      "[[333  86   0   8]\n",
      " [ 74 194   0   3]\n",
      " [ 16  14   0   0]\n",
      " [ 72  35   0   2]]\n"
     ]
    }
   ],
   "source": [
    "confusion = numpy.zeros((len(output_labels),len(output_labels)),dtype=int)\n",
    "\n",
    "testset = temprel_set(\"data/Output4LSTM_Baseline/testset.xml\")\n",
    "for temprel in testset.temprel_ee:\n",
    "    output = model(temprel)\n",
    "    confusion[output_labels[temprel.label]][categoryFromOutput(output)] += 1\n",
    "print(confusion)"
   ]
  },
  {
   "cell_type": "code",
   "execution_count": 20,
   "metadata": {},
   "outputs": [
    {
     "data": {
      "text/plain": [
       "837"
      ]
     },
     "execution_count": 20,
     "metadata": {},
     "output_type": "execute_result"
    }
   ],
   "source": [
    "print(\"%d/%d=%.2f\\%\",numpy.sum([confusion[i][i] for i in range(4)]),numpy.sum(confusion),1.0*numpy.sum([confusion[i][i] for i in range(4)])/numpy.sum(confusion))"
   ]
  }
 ],
 "metadata": {
  "kernelspec": {
   "display_name": "Python 3",
   "language": "python",
   "name": "python3"
  },
  "language_info": {
   "codemirror_mode": {
    "name": "ipython",
    "version": 3
   },
   "file_extension": ".py",
   "mimetype": "text/x-python",
   "name": "python",
   "nbconvert_exporter": "python",
   "pygments_lexer": "ipython3",
   "version": "3.6.4"
  }
 },
 "nbformat": 4,
 "nbformat_minor": 2
}
