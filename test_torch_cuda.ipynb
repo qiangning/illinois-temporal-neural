{
 "cells": [
  {
   "cell_type": "code",
   "execution_count": 3,
   "metadata": {},
   "outputs": [
    {
     "data": {
      "text/plain": [
       "False"
      ]
     },
     "execution_count": 3,
     "metadata": {},
     "output_type": "execute_result"
    }
   ],
   "source": [
    "import torch\n",
    "import torch.nn as nn\n",
    "import numpy\n",
    "torch.cuda.is_available()"
   ]
  },
  {
   "cell_type": "code",
   "execution_count": 4,
   "metadata": {},
   "outputs": [],
   "source": [
    "line=\"Applied 0.6688157 -0.6082209 -0.68432015 0.17188424 -0.6804927 -0.3453853 -0.33725774 0.84784687 0.4429383 -1.0372894 0.8321326 0.8883857 -0.5935929 1.0457032 -1.1036475 0.033437125 -0.6101098 -0.40504718 -0.14684537 1.5064571 -1.4538316 -0.27512166 -0.0027220102 1.7513431 -0.47256717 0.86641043 -0.3736867 0.27800494 0.5374406 -0.56568867 1.0838475 -0.7868998 -0.937811 0.15645868 -0.31113663 0.41832912 -0.92021257 0.8451987 -1.2959459 -1.0472716 0.6408908 0.38513088 -0.08704371 -0.88211226 -1.7341954 -0.6519542 -1.3884729 -0.77030194 1.7004248 -0.2849986 0.6790843 0.39117146 -0.5318126 -0.98992884 -1.1739278 -1.9886621 0.49433017 -0.7348513 0.5365471 -1.0419861 1.883004 0.754444 0.53300273 0.54445267 -0.9836492 -0.11038763 -0.02707049 0.434045 -0.7266869 -0.6325449 -0.40814817 -1.0502081 -0.17543492 0.90820897 -0.101879984 -0.7036046 -0.67850316 0.15541364 0.12300357 -0.27453834 1.2795191 0.61397105 1.8409586 1.706595 -0.5423245 1.8500229 -1.226934 -1.1852577 0.29099977 -0.9203979 0.93450636 -0.769073 0.29363883 -1.6749201 -1.1779594 0.87131816 1.5417284 -0.1349784 -0.21434207 -1.1520154 1.0488681 -0.29654667 0.5765163 1.1631517 -0.23228174 -0.6445832 -1.3900386 1.1880912 -1.370373 -1.2191756 -0.4264872 -1.1300621 -0.07852759 -0.88563347 -0.42600268 0.7565455 -0.24847345 -0.038435746 0.14957394 -0.1191217 0.41167992 0.25209767 2.9208379 0.94236207 -0.98614335 0.415111 0.27461705 0.75893736 -0.39338198 -0.9270739 0.2997502 1.0147811 -0.8854949 -0.12872222 0.15279531 2.0967538 -0.26816192 0.15349634 0.4333325 -0.45973217 -0.2669598 -0.069236904 1.2861654 -0.047174435 1.1542042 0.49664968 -0.88847756 -1.8083187 -0.22669306 -0.6654137 1.1976233 -0.52128077 0.6596699 0.4030401 1.1389962 -0.042974636 0.89729977 0.6015839 0.33740592 0.17855173 0.23038104 -0.55338115 0.6146907 0.67325395 0.37730247 1.2300596 1.6779841 1.6666077 -0.16218475 0.832121 -0.3329662 -0.73245895 0.9447329 1.2085261 0.75603914 1.1785562 0.2659001 1.1834021 -1.986152 0.2118331 -1.9951547 0.8291656 0.22891332 -0.9634832 1.3898839 -0.9385841 0.8261104 0.17941226 1.477742 -0.120761834 -0.48815644 -1.4443659 0.32178226 0.8820041 -0.49361208 0.5402484 -0.34396872 0.17708328 1.6223435 -0.88176507\"\n",
    "elements = line.split(\" \")\n",
    "verb = elements[0]\n",
    "vector = [float(x) for x in elements[1:]]\n",
    "vector = torch.Tensor(vector)"
   ]
  },
  {
   "cell_type": "code",
   "execution_count": 12,
   "metadata": {},
   "outputs": [
    {
     "data": {
      "text/plain": [
       "0"
      ]
     },
     "execution_count": 12,
     "metadata": {},
     "output_type": "execute_result"
    }
   ],
   "source": [
    "a=[[0]*4]*3\n",
    "a[0][1]"
   ]
  },
  {
   "cell_type": "code",
   "execution_count": 10,
   "metadata": {},
   "outputs": [
    {
     "data": {
      "text/plain": [
       "torch.Size([2, 200])"
      ]
     },
     "execution_count": 10,
     "metadata": {},
     "output_type": "execute_result"
    }
   ],
   "source": [
    "torch.Tensor([[0]*200,[0]*200]).size()"
   ]
  },
  {
   "cell_type": "code",
   "execution_count": 7,
   "metadata": {},
   "outputs": [
    {
     "data": {
      "text/plain": [
       "array([[1, 2, 3],\n",
       "       [4, 5, 6],\n",
       "       [7, 8, 9]])"
      ]
     },
     "execution_count": 7,
     "metadata": {},
     "output_type": "execute_result"
    }
   ],
   "source": [
    "a=numpy.array([[1,2,3],[4,5,6],[7,8,9]])\n",
    "a"
   ]
  },
  {
   "cell_type": "code",
   "execution_count": 19,
   "metadata": {},
   "outputs": [
    {
     "data": {
      "text/plain": [
       "[0, 0]"
      ]
     },
     "execution_count": 19,
     "metadata": {},
     "output_type": "execute_result"
    }
   ],
   "source": [
    "a=[0]*2\n",
    "a"
   ]
  },
  {
   "cell_type": "code",
   "execution_count": 15,
   "metadata": {},
   "outputs": [
    {
     "name": "stdout",
     "output_type": "stream",
     "text": [
      "tensor([[-0.8685, -0.5980,  0.8497,  0.2123]])\n",
      "tensor([[0.0923, 0.1210, 0.5146, 0.2721]])\n",
      "tensor(0.0923)\n"
     ]
    },
    {
     "name": "stderr",
     "output_type": "stream",
     "text": [
      "/home/qning2/Software/anaconda2/envs/py36/lib/python3.6/site-packages/ipykernel_launcher.py:4: UserWarning: Implicit dimension choice for softmax has been deprecated. Change the call to include dim=X as an argument.\n",
      "  after removing the cwd from sys.path.\n"
     ]
    }
   ],
   "source": [
    "m=nn.Softmax()\n",
    "a = torch.randn(1,4)\n",
    "print(a)\n",
    "b = m(a)\n",
    "print(b)\n",
    "print(b[0][0])"
   ]
  },
  {
   "cell_type": "code",
   "execution_count": 4,
   "metadata": {},
   "outputs": [
    {
     "name": "stdout",
     "output_type": "stream",
     "text": [
      "[[1, 2], [3, 4]]\n"
     ]
    }
   ],
   "source": [
    "a=[]\n",
    "a.append([1,2])\n",
    "a.append([3,4])\n",
    "print(a)"
   ]
  },
  {
   "cell_type": "code",
   "execution_count": 5,
   "metadata": {},
   "outputs": [
    {
     "data": {
      "text/plain": [
       "tensor([[1, 2],\n",
       "        [3, 4]])"
      ]
     },
     "execution_count": 5,
     "metadata": {},
     "output_type": "execute_result"
    }
   ],
   "source": [
    "torch.tensor(a)"
   ]
  },
  {
   "cell_type": "code",
   "execution_count": 12,
   "metadata": {},
   "outputs": [
    {
     "name": "stdout",
     "output_type": "stream",
     "text": [
      "tensor([[0.5000, 0.3000]])\n"
     ]
    },
    {
     "data": {
      "text/plain": [
       "tensor([5, 3])"
      ]
     },
     "execution_count": 12,
     "metadata": {},
     "output_type": "execute_result"
    }
   ],
   "source": [
    "a=torch.Tensor([0.5,0.3]).view(1,-1)\n",
    "print(a)\n",
    "torch.LongTensor([int(t/0.1) for t in a[0]])"
   ]
  },
  {
   "cell_type": "code",
   "execution_count": 37,
   "metadata": {},
   "outputs": [
    {
     "data": {
      "text/plain": [
       "array([[0, 0],\n",
       "       [0, 0],\n",
       "       [0, 0]])"
      ]
     },
     "execution_count": 37,
     "metadata": {},
     "output_type": "execute_result"
    }
   ],
   "source": [
    "x = numpy.zeros((3,2),dtype=int)\n",
    "x"
   ]
  },
  {
   "cell_type": "code",
   "execution_count": 3,
   "metadata": {},
   "outputs": [
    {
     "data": {
      "text/plain": [
       "tensor([[[0.9521, 0.9967, 0.1607, 0.7907],\n",
       "         [0.8456, 0.3824, 0.7912, 0.0382],\n",
       "         [0.3102, 0.7325, 0.0940, 0.1879]],\n",
       "\n",
       "        [[0.4267, 0.2511, 0.1825, 0.4770],\n",
       "         [0.9533, 0.4725, 0.2731, 0.2238],\n",
       "         [0.1107, 0.0978, 0.0631, 0.4459]]])"
      ]
     },
     "execution_count": 3,
     "metadata": {},
     "output_type": "execute_result"
    }
   ],
   "source": [
    "torch.rand(2,3,4)"
   ]
  },
  {
   "cell_type": "code",
   "execution_count": 27,
   "metadata": {},
   "outputs": [
    {
     "data": {
      "text/plain": [
       "tensor([[-9549829231815554381622804480.0000,                             0.0000,\n",
       "         -9549829231815554381622804480.0000],\n",
       "        [                            0.0000,                             0.0000,\n",
       "                                     0.0000],\n",
       "        [                            0.0000,                             0.0000,\n",
       "         -9516664052006360863287017472.0000],\n",
       "        [                            0.0000,                             0.0000,\n",
       "                                     0.0000],\n",
       "        [                            0.0000,                             0.0000,\n",
       "                                     0.0000]])"
      ]
     },
     "execution_count": 27,
     "metadata": {},
     "output_type": "execute_result"
    }
   ],
   "source": [
    "x=torch.empty(5,3)\n",
    "x"
   ]
  },
  {
   "cell_type": "code",
   "execution_count": 14,
   "metadata": {},
   "outputs": [
    {
     "data": {
      "text/plain": [
       "tensor([[[0.9740, 0.9405, 0.0255]],\n",
       "\n",
       "        [[0.4610, 0.0346, 0.5077]],\n",
       "\n",
       "        [[0.8653, 0.0566, 0.2366]],\n",
       "\n",
       "        [[0.0165, 0.3161, 0.1636]],\n",
       "\n",
       "        [[0.2814, 0.4114, 0.6831]]])"
      ]
     },
     "execution_count": 14,
     "metadata": {},
     "output_type": "execute_result"
    }
   ],
   "source": [
    "y=torch.rand(5,1,3,dtype=torch.float)\n",
    "y"
   ]
  },
  {
   "cell_type": "code",
   "execution_count": 24,
   "metadata": {},
   "outputs": [
    {
     "data": {
      "text/plain": [
       "tensor([[0.2814, 0.4114, 0.6831]])"
      ]
     },
     "execution_count": 24,
     "metadata": {},
     "output_type": "execute_result"
    }
   ],
   "source": [
    "y[-1][:][:]"
   ]
  },
  {
   "cell_type": "code",
   "execution_count": 6,
   "metadata": {},
   "outputs": [
    {
     "data": {
      "text/plain": [
       "tensor([[0.3026, 0.8112, 0.6256],\n",
       "        [0.3669, 0.7200, 0.9576],\n",
       "        [0.3551, 0.6668, 0.3571],\n",
       "        [0.2323, 0.5797, 0.0392],\n",
       "        [0.9755, 0.6141, 0.6064]])"
      ]
     },
     "execution_count": 6,
     "metadata": {},
     "output_type": "execute_result"
    }
   ],
   "source": [
    "y"
   ]
  },
  {
   "cell_type": "code",
   "execution_count": 4,
   "metadata": {},
   "outputs": [
    {
     "data": {
      "text/plain": [
       "tensor([[0, 0, 0],\n",
       "        [0, 0, 0],\n",
       "        [0, 0, 0],\n",
       "        [0, 0, 0],\n",
       "        [0, 0, 0]], dtype=torch.int32)"
      ]
     },
     "execution_count": 4,
     "metadata": {},
     "output_type": "execute_result"
    }
   ],
   "source": [
    "z=torch.zeros(5,3,dtype=torch.int)\n",
    "z"
   ]
  },
  {
   "cell_type": "code",
   "execution_count": 13,
   "metadata": {},
   "outputs": [
    {
     "data": {
      "text/plain": [
       "torch.Size([2])"
      ]
     },
     "execution_count": 13,
     "metadata": {},
     "output_type": "execute_result"
    }
   ],
   "source": [
    "w=torch.tensor([1.1,2.2])\n",
    "w"
   ]
  },
  {
   "cell_type": "code",
   "execution_count": 28,
   "metadata": {},
   "outputs": [
    {
     "data": {
      "text/plain": [
       "tensor([[100., 100., 100.],\n",
       "        [100., 100., 100.]])"
      ]
     },
     "execution_count": 28,
     "metadata": {},
     "output_type": "execute_result"
    }
   ],
   "source": [
    "w = torch.full([2,3],100)"
   ]
  },
  {
   "cell_type": "code",
   "execution_count": 6,
   "metadata": {},
   "outputs": [
    {
     "name": "stdout",
     "output_type": "stream",
     "text": [
      "tensor([[1., 1., 1., 1.],\n",
      "        [1., 1., 1., 1.]])\n",
      "torch.Size([2, 4])\n"
     ]
    }
   ],
   "source": [
    "a=x.new_ones(2,4)\n",
    "print(a)\n",
    "print(a.size())"
   ]
  },
  {
   "cell_type": "code",
   "execution_count": 7,
   "metadata": {},
   "outputs": [
    {
     "name": "stdout",
     "output_type": "stream",
     "text": [
      "tensor([2.6021e-01,        nan, 1.5564e+28, 1.3788e-01, 3.0313e+32])\n",
      "tensor([[6.1829e+18, 2.6021e-01, 6.1829e+18],\n",
      "        [3.8148e-01,        nan, 2.0543e-01],\n",
      "        [7.6194e+31, 1.5564e+28, 1.8484e+31],\n",
      "        [1.8370e+25, 1.3788e-01, 2.7517e+12],\n",
      "        [7.5338e+28, 3.0313e+32, 6.3828e+28]])\n"
     ]
    }
   ],
   "source": [
    "result = torch.empty(5,3)\n",
    "# result = x+y\n",
    "torch.add(x,y,out=result)\n",
    "print(result[:,1])\n",
    "print(result)"
   ]
  },
  {
   "cell_type": "code",
   "execution_count": 8,
   "metadata": {},
   "outputs": [
    {
     "data": {
      "text/plain": [
       "tensor([[6.1829e+18, 2.6021e-01, 6.1829e+18],\n",
       "        [3.8148e-01,        nan, 2.0543e-01],\n",
       "        [7.6194e+31, 1.5564e+28, 1.8484e+31],\n",
       "        [1.8370e+25, 1.3788e-01, 2.7517e+12],\n",
       "        [7.5338e+28, 3.0313e+32, 6.3828e+28]])"
      ]
     },
     "execution_count": 8,
     "metadata": {},
     "output_type": "execute_result"
    }
   ],
   "source": [
    "y.add_(x)\n",
    "y"
   ]
  },
  {
   "cell_type": "code",
   "execution_count": 9,
   "metadata": {},
   "outputs": [
    {
     "name": "stdout",
     "output_type": "stream",
     "text": [
      "tensor([[6.1829e+18, 2.6021e-01, 6.1829e+18],\n",
      "        [3.8148e-01,        nan, 2.0543e-01],\n",
      "        [7.6194e+31, 1.5564e+28, 1.8484e+31],\n",
      "        [1.8370e+25, 1.3788e-01, 2.7517e+12],\n",
      "        [7.5338e+28, 3.0313e+32, 6.3828e+28]])\n",
      "tensor([[6.1829e+18, 2.6021e-01, 6.1829e+18, 3.8148e-01,        nan],\n",
      "        [2.0543e-01, 7.6194e+31, 1.5564e+28, 1.8484e+31, 1.8370e+25],\n",
      "        [1.3788e-01, 2.7517e+12, 7.5338e+28, 3.0313e+32, 6.3828e+28]])\n"
     ]
    }
   ],
   "source": [
    "print(y)\n",
    "print(y.view(-1,5))"
   ]
  },
  {
   "cell_type": "code",
   "execution_count": 45,
   "metadata": {},
   "outputs": [
    {
     "name": "stdout",
     "output_type": "stream",
     "text": [
      "tensor([[1, 1, 1, 1],\n",
      "        [1, 1, 1, 1]], dtype=torch.int16)\n",
      "[[1 1 1 1]\n",
      " [1 1 1 1]]\n",
      "tensor([[1, 1, 1, 1],\n",
      "        [1, 1, 1, 1]], dtype=torch.int16)\n",
      "[[1 1 1 1]\n",
      " [1 1 1 1]]\n",
      "tensor([[2, 2, 2, 2],\n",
      "        [2, 2, 2, 2]], dtype=torch.int16)\n",
      "[[2 2 2 2]\n",
      " [2 2 2 2]]\n"
     ]
    }
   ],
   "source": [
    "b=a.numpy()\n",
    "print(a)\n",
    "print(b)\n",
    "a.add(1)\n",
    "print(a)\n",
    "print(b)\n",
    "a.add_(1)\n",
    "print(a)\n",
    "print(b)"
   ]
  },
  {
   "cell_type": "code",
   "execution_count": 47,
   "metadata": {},
   "outputs": [
    {
     "data": {
      "text/plain": [
       "device(type='cuda')"
      ]
     },
     "execution_count": 47,
     "metadata": {},
     "output_type": "execute_result"
    }
   ],
   "source": [
    "device=torch.device(\"cuda\")\n",
    "device"
   ]
  },
  {
   "cell_type": "code",
   "execution_count": 6,
   "metadata": {},
   "outputs": [
    {
     "name": "stdout",
     "output_type": "stream",
     "text": [
      "['', 'test', ' kojo     233   fsd\\t4']\n"
     ]
    }
   ],
   "source": [
    "a=',test, kojo     233   fsd\\t4'\n",
    "print(a.split(','))\n",
    "# print(a.split()[0][:-3])"
   ]
  }
 ],
 "metadata": {
  "kernelspec": {
   "display_name": "Python 3",
   "language": "python",
   "name": "python3"
  },
  "language_info": {
   "codemirror_mode": {
    "name": "ipython",
    "version": 3
   },
   "file_extension": ".py",
   "mimetype": "text/x-python",
   "name": "python",
   "nbconvert_exporter": "python",
   "pygments_lexer": "ipython3",
   "version": "3.6.4"
  }
 },
 "nbformat": 4,
 "nbformat_minor": 2
}
