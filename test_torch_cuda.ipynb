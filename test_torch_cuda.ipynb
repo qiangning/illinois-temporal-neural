{
 "cells": [
  {
   "cell_type": "code",
   "execution_count": 1,
   "metadata": {},
   "outputs": [
    {
     "data": {
      "text/plain": [
       "False"
      ]
     },
     "execution_count": 1,
     "metadata": {},
     "output_type": "execute_result"
    }
   ],
   "source": [
    "import torch\n",
    "import torch.nn as nn\n",
    "import numpy\n",
    "torch.cuda.is_available()"
   ]
  },
  {
   "cell_type": "code",
   "execution_count": 7,
   "metadata": {},
   "outputs": [
    {
     "data": {
      "text/plain": [
       "array([[1, 2, 3],\n",
       "       [4, 5, 6],\n",
       "       [7, 8, 9]])"
      ]
     },
     "execution_count": 7,
     "metadata": {},
     "output_type": "execute_result"
    }
   ],
   "source": [
    "a=numpy.array([[1,2,3],[4,5,6],[7,8,9]])\n",
    "a"
   ]
  },
  {
   "cell_type": "code",
   "execution_count": 19,
   "metadata": {},
   "outputs": [
    {
     "data": {
      "text/plain": [
       "[0, 0]"
      ]
     },
     "execution_count": 19,
     "metadata": {},
     "output_type": "execute_result"
    }
   ],
   "source": [
    "a=[0]*2\n",
    "a"
   ]
  },
  {
   "cell_type": "code",
   "execution_count": 15,
   "metadata": {},
   "outputs": [
    {
     "name": "stdout",
     "output_type": "stream",
     "text": [
      "tensor([[-0.8685, -0.5980,  0.8497,  0.2123]])\n",
      "tensor([[0.0923, 0.1210, 0.5146, 0.2721]])\n",
      "tensor(0.0923)\n"
     ]
    },
    {
     "name": "stderr",
     "output_type": "stream",
     "text": [
      "/home/qning2/Software/anaconda2/envs/py36/lib/python3.6/site-packages/ipykernel_launcher.py:4: UserWarning: Implicit dimension choice for softmax has been deprecated. Change the call to include dim=X as an argument.\n",
      "  after removing the cwd from sys.path.\n"
     ]
    }
   ],
   "source": [
    "m=nn.Softmax()\n",
    "a = torch.randn(1,4)\n",
    "print(a)\n",
    "b = m(a)\n",
    "print(b)\n",
    "print(b[0][0])"
   ]
  },
  {
   "cell_type": "code",
   "execution_count": 4,
   "metadata": {},
   "outputs": [
    {
     "name": "stdout",
     "output_type": "stream",
     "text": [
      "[[1, 2], [3, 4]]\n"
     ]
    }
   ],
   "source": [
    "a=[]\n",
    "a.append([1,2])\n",
    "a.append([3,4])\n",
    "print(a)"
   ]
  },
  {
   "cell_type": "code",
   "execution_count": 5,
   "metadata": {},
   "outputs": [
    {
     "data": {
      "text/plain": [
       "tensor([[1, 2],\n",
       "        [3, 4]])"
      ]
     },
     "execution_count": 5,
     "metadata": {},
     "output_type": "execute_result"
    }
   ],
   "source": [
    "torch.tensor(a)"
   ]
  },
  {
   "cell_type": "code",
   "execution_count": 12,
   "metadata": {},
   "outputs": [
    {
     "name": "stdout",
     "output_type": "stream",
     "text": [
      "tensor([[0.5000, 0.3000]])\n"
     ]
    },
    {
     "data": {
      "text/plain": [
       "tensor([5, 3])"
      ]
     },
     "execution_count": 12,
     "metadata": {},
     "output_type": "execute_result"
    }
   ],
   "source": [
    "a=torch.Tensor([0.5,0.3]).view(1,-1)\n",
    "print(a)\n",
    "torch.LongTensor([int(t/0.1) for t in a[0]])"
   ]
  },
  {
   "cell_type": "code",
   "execution_count": 37,
   "metadata": {},
   "outputs": [
    {
     "data": {
      "text/plain": [
       "array([[0, 0],\n",
       "       [0, 0],\n",
       "       [0, 0]])"
      ]
     },
     "execution_count": 37,
     "metadata": {},
     "output_type": "execute_result"
    }
   ],
   "source": [
    "x = numpy.zeros((3,2),dtype=int)\n",
    "x"
   ]
  },
  {
   "cell_type": "code",
   "execution_count": 3,
   "metadata": {},
   "outputs": [
    {
     "data": {
      "text/plain": [
       "tensor([[[0.9521, 0.9967, 0.1607, 0.7907],\n",
       "         [0.8456, 0.3824, 0.7912, 0.0382],\n",
       "         [0.3102, 0.7325, 0.0940, 0.1879]],\n",
       "\n",
       "        [[0.4267, 0.2511, 0.1825, 0.4770],\n",
       "         [0.9533, 0.4725, 0.2731, 0.2238],\n",
       "         [0.1107, 0.0978, 0.0631, 0.4459]]])"
      ]
     },
     "execution_count": 3,
     "metadata": {},
     "output_type": "execute_result"
    }
   ],
   "source": [
    "torch.rand(2,3,4)"
   ]
  },
  {
   "cell_type": "code",
   "execution_count": 27,
   "metadata": {},
   "outputs": [
    {
     "data": {
      "text/plain": [
       "tensor([[-9549829231815554381622804480.0000,                             0.0000,\n",
       "         -9549829231815554381622804480.0000],\n",
       "        [                            0.0000,                             0.0000,\n",
       "                                     0.0000],\n",
       "        [                            0.0000,                             0.0000,\n",
       "         -9516664052006360863287017472.0000],\n",
       "        [                            0.0000,                             0.0000,\n",
       "                                     0.0000],\n",
       "        [                            0.0000,                             0.0000,\n",
       "                                     0.0000]])"
      ]
     },
     "execution_count": 27,
     "metadata": {},
     "output_type": "execute_result"
    }
   ],
   "source": [
    "x=torch.empty(5,3)\n",
    "x"
   ]
  },
  {
   "cell_type": "code",
   "execution_count": 14,
   "metadata": {},
   "outputs": [
    {
     "data": {
      "text/plain": [
       "tensor([[[0.9740, 0.9405, 0.0255]],\n",
       "\n",
       "        [[0.4610, 0.0346, 0.5077]],\n",
       "\n",
       "        [[0.8653, 0.0566, 0.2366]],\n",
       "\n",
       "        [[0.0165, 0.3161, 0.1636]],\n",
       "\n",
       "        [[0.2814, 0.4114, 0.6831]]])"
      ]
     },
     "execution_count": 14,
     "metadata": {},
     "output_type": "execute_result"
    }
   ],
   "source": [
    "y=torch.rand(5,1,3,dtype=torch.float)\n",
    "y"
   ]
  },
  {
   "cell_type": "code",
   "execution_count": 24,
   "metadata": {},
   "outputs": [
    {
     "data": {
      "text/plain": [
       "tensor([[0.2814, 0.4114, 0.6831]])"
      ]
     },
     "execution_count": 24,
     "metadata": {},
     "output_type": "execute_result"
    }
   ],
   "source": [
    "y[-1][:][:]"
   ]
  },
  {
   "cell_type": "code",
   "execution_count": 6,
   "metadata": {},
   "outputs": [
    {
     "data": {
      "text/plain": [
       "tensor([[0.3026, 0.8112, 0.6256],\n",
       "        [0.3669, 0.7200, 0.9576],\n",
       "        [0.3551, 0.6668, 0.3571],\n",
       "        [0.2323, 0.5797, 0.0392],\n",
       "        [0.9755, 0.6141, 0.6064]])"
      ]
     },
     "execution_count": 6,
     "metadata": {},
     "output_type": "execute_result"
    }
   ],
   "source": [
    "y"
   ]
  },
  {
   "cell_type": "code",
   "execution_count": 4,
   "metadata": {},
   "outputs": [
    {
     "data": {
      "text/plain": [
       "tensor([[0, 0, 0],\n",
       "        [0, 0, 0],\n",
       "        [0, 0, 0],\n",
       "        [0, 0, 0],\n",
       "        [0, 0, 0]], dtype=torch.int32)"
      ]
     },
     "execution_count": 4,
     "metadata": {},
     "output_type": "execute_result"
    }
   ],
   "source": [
    "z=torch.zeros(5,3,dtype=torch.int)\n",
    "z"
   ]
  },
  {
   "cell_type": "code",
   "execution_count": 13,
   "metadata": {},
   "outputs": [
    {
     "data": {
      "text/plain": [
       "torch.Size([2])"
      ]
     },
     "execution_count": 13,
     "metadata": {},
     "output_type": "execute_result"
    }
   ],
   "source": [
    "w=torch.tensor([1.1,2.2])\n",
    "w"
   ]
  },
  {
   "cell_type": "code",
   "execution_count": 28,
   "metadata": {},
   "outputs": [
    {
     "data": {
      "text/plain": [
       "tensor([[100., 100., 100.],\n",
       "        [100., 100., 100.]])"
      ]
     },
     "execution_count": 28,
     "metadata": {},
     "output_type": "execute_result"
    }
   ],
   "source": [
    "w = torch.full([2,3],100)"
   ]
  },
  {
   "cell_type": "code",
   "execution_count": 6,
   "metadata": {},
   "outputs": [
    {
     "name": "stdout",
     "output_type": "stream",
     "text": [
      "tensor([[1., 1., 1., 1.],\n",
      "        [1., 1., 1., 1.]])\n",
      "torch.Size([2, 4])\n"
     ]
    }
   ],
   "source": [
    "a=x.new_ones(2,4)\n",
    "print(a)\n",
    "print(a.size())"
   ]
  },
  {
   "cell_type": "code",
   "execution_count": 7,
   "metadata": {},
   "outputs": [
    {
     "name": "stdout",
     "output_type": "stream",
     "text": [
      "tensor([2.6021e-01,        nan, 1.5564e+28, 1.3788e-01, 3.0313e+32])\n",
      "tensor([[6.1829e+18, 2.6021e-01, 6.1829e+18],\n",
      "        [3.8148e-01,        nan, 2.0543e-01],\n",
      "        [7.6194e+31, 1.5564e+28, 1.8484e+31],\n",
      "        [1.8370e+25, 1.3788e-01, 2.7517e+12],\n",
      "        [7.5338e+28, 3.0313e+32, 6.3828e+28]])\n"
     ]
    }
   ],
   "source": [
    "result = torch.empty(5,3)\n",
    "# result = x+y\n",
    "torch.add(x,y,out=result)\n",
    "print(result[:,1])\n",
    "print(result)"
   ]
  },
  {
   "cell_type": "code",
   "execution_count": 8,
   "metadata": {},
   "outputs": [
    {
     "data": {
      "text/plain": [
       "tensor([[6.1829e+18, 2.6021e-01, 6.1829e+18],\n",
       "        [3.8148e-01,        nan, 2.0543e-01],\n",
       "        [7.6194e+31, 1.5564e+28, 1.8484e+31],\n",
       "        [1.8370e+25, 1.3788e-01, 2.7517e+12],\n",
       "        [7.5338e+28, 3.0313e+32, 6.3828e+28]])"
      ]
     },
     "execution_count": 8,
     "metadata": {},
     "output_type": "execute_result"
    }
   ],
   "source": [
    "y.add_(x)\n",
    "y"
   ]
  },
  {
   "cell_type": "code",
   "execution_count": 9,
   "metadata": {},
   "outputs": [
    {
     "name": "stdout",
     "output_type": "stream",
     "text": [
      "tensor([[6.1829e+18, 2.6021e-01, 6.1829e+18],\n",
      "        [3.8148e-01,        nan, 2.0543e-01],\n",
      "        [7.6194e+31, 1.5564e+28, 1.8484e+31],\n",
      "        [1.8370e+25, 1.3788e-01, 2.7517e+12],\n",
      "        [7.5338e+28, 3.0313e+32, 6.3828e+28]])\n",
      "tensor([[6.1829e+18, 2.6021e-01, 6.1829e+18, 3.8148e-01,        nan],\n",
      "        [2.0543e-01, 7.6194e+31, 1.5564e+28, 1.8484e+31, 1.8370e+25],\n",
      "        [1.3788e-01, 2.7517e+12, 7.5338e+28, 3.0313e+32, 6.3828e+28]])\n"
     ]
    }
   ],
   "source": [
    "print(y)\n",
    "print(y.view(-1,5))"
   ]
  },
  {
   "cell_type": "code",
   "execution_count": 45,
   "metadata": {},
   "outputs": [
    {
     "name": "stdout",
     "output_type": "stream",
     "text": [
      "tensor([[1, 1, 1, 1],\n",
      "        [1, 1, 1, 1]], dtype=torch.int16)\n",
      "[[1 1 1 1]\n",
      " [1 1 1 1]]\n",
      "tensor([[1, 1, 1, 1],\n",
      "        [1, 1, 1, 1]], dtype=torch.int16)\n",
      "[[1 1 1 1]\n",
      " [1 1 1 1]]\n",
      "tensor([[2, 2, 2, 2],\n",
      "        [2, 2, 2, 2]], dtype=torch.int16)\n",
      "[[2 2 2 2]\n",
      " [2 2 2 2]]\n"
     ]
    }
   ],
   "source": [
    "b=a.numpy()\n",
    "print(a)\n",
    "print(b)\n",
    "a.add(1)\n",
    "print(a)\n",
    "print(b)\n",
    "a.add_(1)\n",
    "print(a)\n",
    "print(b)"
   ]
  },
  {
   "cell_type": "code",
   "execution_count": 47,
   "metadata": {},
   "outputs": [
    {
     "data": {
      "text/plain": [
       "device(type='cuda')"
      ]
     },
     "execution_count": 47,
     "metadata": {},
     "output_type": "execute_result"
    }
   ],
   "source": [
    "device=torch.device(\"cuda\")\n",
    "device"
   ]
  },
  {
   "cell_type": "code",
   "execution_count": 6,
   "metadata": {},
   "outputs": [
    {
     "name": "stdout",
     "output_type": "stream",
     "text": [
      "['', 'test', ' kojo     233   fsd\\t4']\n"
     ]
    }
   ],
   "source": [
    "a=',test, kojo     233   fsd\\t4'\n",
    "print(a.split(','))\n",
    "# print(a.split()[0][:-3])"
   ]
  }
 ],
 "metadata": {
  "kernelspec": {
   "display_name": "Python 3",
   "language": "python",
   "name": "python3"
  },
  "language_info": {
   "codemirror_mode": {
    "name": "ipython",
    "version": 3
   },
   "file_extension": ".py",
   "mimetype": "text/x-python",
   "name": "python",
   "nbconvert_exporter": "python",
   "pygments_lexer": "ipython3",
   "version": "3.6.4"
  }
 },
 "nbformat": 4,
 "nbformat_minor": 2
}
